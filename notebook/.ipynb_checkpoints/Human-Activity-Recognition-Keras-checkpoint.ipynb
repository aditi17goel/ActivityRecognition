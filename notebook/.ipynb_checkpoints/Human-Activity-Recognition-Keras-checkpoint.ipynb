{
 "cells": [
  {
   "cell_type": "markdown",
   "metadata": {},
   "source": [
    "## Setup"
   ]
  },
  {
   "cell_type": "code",
   "execution_count": 1,
   "metadata": {},
   "outputs": [],
   "source": [
    "import pandas as pd\n",
    "import numpy as np\n",
    "import matplotlib.pyplot as plt\n",
    "import seaborn as sns\n",
    "import tensorflow as tf\n",
    "from scipy import stats\n",
    "from sklearn import metrics\n",
    "\n",
    "%matplotlib inline\n",
    "\n",
    "import warnings\n",
    "warnings.filterwarnings('ignore')"
   ]
  },
  {
   "cell_type": "code",
   "execution_count": 2,
   "metadata": {},
   "outputs": [
    {
     "name": "stdout",
     "output_type": "stream",
     "text": [
      "Default GPU Device: /device:GPU:0\n"
     ]
    }
   ],
   "source": [
    "# Check if GPU is available\n",
    "if tf.test.gpu_device_name():\n",
    "    print('Default GPU Device: {}'.format(tf.test.gpu_device_name()))\n",
    "else:\n",
    "    print(\"Please install GPU version of TF\")"
   ]
  },
  {
   "cell_type": "markdown",
   "metadata": {},
   "source": [
    "## Loading and preparing train and test data"
   ]
  },
  {
   "cell_type": "markdown",
   "metadata": {},
   "source": [
    "We use \"Sensors Activity Dataset\" by Shoaib et al. which is available for download from [here](https://www.utwente.nl/en/eemcs/ps/research/dataset/).\n",
    "There are 7 activities in this dataset: Biking, Downstairs, Jogging, Sitting, Standing, Upstairs, Walking. \n",
    "There were ten participants involved in data collection experiment who performed  each of these activities for 3-4 minutes.\n",
    "All ten participants were male, between the ages of 25 and 30. \n",
    "Each of these participants was equipped with five smartphones on five body positions: \n",
    "\n",
    "1. One in their right jean’s pocket. \n",
    "2. One in their left jean’s pocket.\n",
    "3. One on belt position towards the right leg using a belt clipper.\n",
    "4. One on the right upper arm. \n",
    "5. One on the right wrist.\n",
    "\n",
    "The data was collected for an accelerometer, a gyroscope, a magnetometer, and a linear acceleration sensor. \n",
    "Each csv file contains data for each participant's seven physical activities for all five positions. \n",
    "\n",
    "Notation in these files: \n",
    "\n",
    "Accelerometer ( Ax = x-axis, Ay = y-axis, Az= Z-aixs)   \n",
    "Linear Acceleration Sensor ( Lx = x-axis, Ly = y axis, Lz= Z-aixs)   \n",
    "Gyroscope ( Gx = x-axis, Gy = y-axis, Gz= Z-aixs)   \n",
    "Magnetometer ( Mx = x-axis, My = y-axis, Mz= Z-aixs) "
   ]
  },
  {
   "cell_type": "code",
   "execution_count": 14,
   "metadata": {},
   "outputs": [
    {
     "name": "stdout",
     "output_type": "stream",
     "text": [
      "--2019-04-30 12:49:25--  https://www.utwente.nl/en/eemcs/ps/dataset-folder/sensors-activity-recognition-dataset-shoaib.rar\n",
      "Resolving www.utwente.nl... 130.89.3.249, 2001:67c:2564:a102::1:1\n",
      "Connecting to www.utwente.nl|130.89.3.249|:443... connected.\n",
      "HTTP request sent, awaiting response... 200 OK\n",
      "Length: 100080442 (95M) [application/x-rar-compressed]\n",
      "Saving to: ‘data/sensors-activity-recognition-dataset-shoaib.rar’\n",
      "\n",
      "sensors-activity-re 100%[===================>]  95.44M  29.3MB/s    in 3.4s    \n",
      "\n",
      "2019-04-30 12:49:29 (27.8 MB/s) - ‘data/sensors-activity-recognition-dataset-shoaib.rar’ saved [100080442/100080442]\n",
      "\n",
      "Requirement already satisfied: unrar in /data/anaconda/envs/py35/lib/python3.5/site-packages (0.3)\n",
      "\u001b[33mYou are using pip version 19.0.3, however version 19.1 is available.\n",
      "You should consider upgrading via the 'pip install --upgrade pip' command.\u001b[0m\n",
      "\n",
      "UNRAR 5.30 beta 2 freeware      Copyright (c) 1993-2015 Alexander Roshal\n",
      "\n",
      "\n",
      "Extracting from data/sensors-activity-recognition-dataset-shoaib.rar\n",
      "\n",
      "Extracting  data/Participant_1.csv                                                          10  OK \n",
      "Extracting  data/Participant_10.csv                                     1 1 1 1 1 1 1 1 1 1 20  OK \n",
      "Extracting  data/Participant_2.csv                                      2 2 2 2 2 2 2 2 2 2 30  OK \n",
      "Extracting  data/Participant_3.csv                                      3 3 3 3 3 3 3 3 3 39  OK \n",
      "Extracting  data/Participant_4.csv                                      3 4 4 4 4 4 4 4 4 4 49  OK \n",
      "Extracting  data/Participant_5.csv                                      4 5 5 5 5 5 5 5 5 5 5 60  OK \n",
      "Extracting  data/Participant_6.csv                                      6 6 6 6 6 6 6 6 6 69  OK \n",
      "Extracting  data/Participant_7.csv                                      6 7 7 7 7 7 7 7 7 7 79  OK \n",
      "Extracting  data/Participant_8.csv                                      7 8 8 8 8 8 8 8 8 8 89  OK \n",
      "Extracting  data/Participant_9.csv                                      8 9 9 9 9 9 9 9 9 9 99  OK \n",
      "Extracting  data/Readme.txt                                             99  OK \n",
      "All OK\n"
     ]
    }
   ],
   "source": [
    "# Download dataset\n",
    "! wget https://www.utwente.nl/en/eemcs/ps/dataset-folder/sensors-activity-recognition-dataset-shoaib.rar -P ../data/\n",
    "\n",
    "# Extract dataset using unrar\n",
    "!pip install unrar\n",
    "!unrar e ../data/sensors-activity-recognition-dataset-shoaib.rar ../data/"
   ]
  },
  {
   "cell_type": "markdown",
   "metadata": {},
   "source": [
    "## Loading and preparing train and test data"
   ]
  },
  {
   "cell_type": "markdown",
   "metadata": {},
   "source": [
    "We load all 10 participants data into a single dataframe:\n"
   ]
  },
  {
   "cell_type": "code",
   "execution_count": 36,
   "metadata": {},
   "outputs": [
    {
     "data": {
      "text/html": [
       "<div>\n",
       "<style scoped>\n",
       "    .dataframe tbody tr th:only-of-type {\n",
       "        vertical-align: middle;\n",
       "    }\n",
       "\n",
       "    .dataframe tbody tr th {\n",
       "        vertical-align: top;\n",
       "    }\n",
       "\n",
       "    .dataframe thead th {\n",
       "        text-align: right;\n",
       "    }\n",
       "</style>\n",
       "<table border=\"1\" class=\"dataframe\">\n",
       "  <thead>\n",
       "    <tr style=\"text-align: right;\">\n",
       "      <th></th>\n",
       "      <th>time_stamp</th>\n",
       "      <th>Ax</th>\n",
       "      <th>Ay</th>\n",
       "      <th>Az</th>\n",
       "      <th>Lx</th>\n",
       "      <th>Ly</th>\n",
       "      <th>Lz</th>\n",
       "      <th>Gx</th>\n",
       "      <th>Gy</th>\n",
       "      <th>Gz</th>\n",
       "      <th>...</th>\n",
       "      <th>Lx.4</th>\n",
       "      <th>Ly.4</th>\n",
       "      <th>Lz.4</th>\n",
       "      <th>Gx.4</th>\n",
       "      <th>Gy.4</th>\n",
       "      <th>Gz.4</th>\n",
       "      <th>Mx.4</th>\n",
       "      <th>My.4</th>\n",
       "      <th>Mz.4</th>\n",
       "      <th>Unnamed: 69</th>\n",
       "    </tr>\n",
       "  </thead>\n",
       "  <tbody>\n",
       "    <tr>\n",
       "      <th>0</th>\n",
       "      <td>1.390000e+12</td>\n",
       "      <td>-1.81150</td>\n",
       "      <td>-14.873</td>\n",
       "      <td>-1.34840</td>\n",
       "      <td>-1.26910</td>\n",
       "      <td>-5.1057</td>\n",
       "      <td>-0.66445</td>\n",
       "      <td>-0.53206</td>\n",
       "      <td>-3.18690</td>\n",
       "      <td>0.23976</td>\n",
       "      <td>...</td>\n",
       "      <td>-5.3574</td>\n",
       "      <td>-0.95749</td>\n",
       "      <td>0.318860</td>\n",
       "      <td>0.52565</td>\n",
       "      <td>-0.18815</td>\n",
       "      <td>0.285880</td>\n",
       "      <td>-22.20</td>\n",
       "      <td>6.48</td>\n",
       "      <td>4.56</td>\n",
       "      <td>walking</td>\n",
       "    </tr>\n",
       "    <tr>\n",
       "      <th>1</th>\n",
       "      <td>1.390000e+12</td>\n",
       "      <td>0.24517</td>\n",
       "      <td>-14.070</td>\n",
       "      <td>-0.84446</td>\n",
       "      <td>0.70147</td>\n",
       "      <td>-4.2969</td>\n",
       "      <td>-0.17199</td>\n",
       "      <td>-0.25229</td>\n",
       "      <td>-1.79660</td>\n",
       "      <td>0.40745</td>\n",
       "      <td>...</td>\n",
       "      <td>-4.5352</td>\n",
       "      <td>-0.67629</td>\n",
       "      <td>0.081656</td>\n",
       "      <td>0.43616</td>\n",
       "      <td>0.16371</td>\n",
       "      <td>0.198230</td>\n",
       "      <td>-21.90</td>\n",
       "      <td>7.14</td>\n",
       "      <td>5.34</td>\n",
       "      <td>walking</td>\n",
       "    </tr>\n",
       "    <tr>\n",
       "      <th>2</th>\n",
       "      <td>1.390000e+12</td>\n",
       "      <td>-0.57205</td>\n",
       "      <td>-14.628</td>\n",
       "      <td>-1.75700</td>\n",
       "      <td>-0.21760</td>\n",
       "      <td>-4.8531</td>\n",
       "      <td>-1.05650</td>\n",
       "      <td>-1.04920</td>\n",
       "      <td>0.29138</td>\n",
       "      <td>0.29230</td>\n",
       "      <td>...</td>\n",
       "      <td>-4.0408</td>\n",
       "      <td>-0.55974</td>\n",
       "      <td>-0.523690</td>\n",
       "      <td>0.32284</td>\n",
       "      <td>0.43127</td>\n",
       "      <td>0.211970</td>\n",
       "      <td>-21.60</td>\n",
       "      <td>7.50</td>\n",
       "      <td>5.64</td>\n",
       "      <td>walking</td>\n",
       "    </tr>\n",
       "    <tr>\n",
       "      <th>3</th>\n",
       "      <td>1.390000e+12</td>\n",
       "      <td>-0.69464</td>\n",
       "      <td>-12.939</td>\n",
       "      <td>-3.09180</td>\n",
       "      <td>-0.32273</td>\n",
       "      <td>-3.1786</td>\n",
       "      <td>-2.21970</td>\n",
       "      <td>-2.37200</td>\n",
       "      <td>1.00820</td>\n",
       "      <td>0.34972</td>\n",
       "      <td>...</td>\n",
       "      <td>-3.5908</td>\n",
       "      <td>0.15795</td>\n",
       "      <td>-1.880200</td>\n",
       "      <td>0.20403</td>\n",
       "      <td>0.72846</td>\n",
       "      <td>0.164930</td>\n",
       "      <td>-21.12</td>\n",
       "      <td>8.40</td>\n",
       "      <td>6.12</td>\n",
       "      <td>walking</td>\n",
       "    </tr>\n",
       "    <tr>\n",
       "      <th>4</th>\n",
       "      <td>1.390000e+12</td>\n",
       "      <td>0.87170</td>\n",
       "      <td>-12.000</td>\n",
       "      <td>-1.56630</td>\n",
       "      <td>1.13740</td>\n",
       "      <td>-2.2390</td>\n",
       "      <td>-0.65476</td>\n",
       "      <td>-2.79010</td>\n",
       "      <td>0.65485</td>\n",
       "      <td>0.22724</td>\n",
       "      <td>...</td>\n",
       "      <td>-1.9450</td>\n",
       "      <td>0.85796</td>\n",
       "      <td>-2.995300</td>\n",
       "      <td>0.09896</td>\n",
       "      <td>0.94379</td>\n",
       "      <td>0.064752</td>\n",
       "      <td>-20.94</td>\n",
       "      <td>8.70</td>\n",
       "      <td>6.30</td>\n",
       "      <td>walking</td>\n",
       "    </tr>\n",
       "  </tbody>\n",
       "</table>\n",
       "<p>5 rows × 70 columns</p>\n",
       "</div>"
      ],
      "text/plain": [
       "     time_stamp       Ax      Ay       Az       Lx      Ly       Lz       Gx  \\\n",
       "0  1.390000e+12 -1.81150 -14.873 -1.34840 -1.26910 -5.1057 -0.66445 -0.53206   \n",
       "1  1.390000e+12  0.24517 -14.070 -0.84446  0.70147 -4.2969 -0.17199 -0.25229   \n",
       "2  1.390000e+12 -0.57205 -14.628 -1.75700 -0.21760 -4.8531 -1.05650 -1.04920   \n",
       "3  1.390000e+12 -0.69464 -12.939 -3.09180 -0.32273 -3.1786 -2.21970 -2.37200   \n",
       "4  1.390000e+12  0.87170 -12.000 -1.56630  1.13740 -2.2390 -0.65476 -2.79010   \n",
       "\n",
       "        Gy       Gz  ...    Lx.4     Ly.4      Lz.4     Gx.4     Gy.4  \\\n",
       "0 -3.18690  0.23976  ... -5.3574 -0.95749  0.318860  0.52565 -0.18815   \n",
       "1 -1.79660  0.40745  ... -4.5352 -0.67629  0.081656  0.43616  0.16371   \n",
       "2  0.29138  0.29230  ... -4.0408 -0.55974 -0.523690  0.32284  0.43127   \n",
       "3  1.00820  0.34972  ... -3.5908  0.15795 -1.880200  0.20403  0.72846   \n",
       "4  0.65485  0.22724  ... -1.9450  0.85796 -2.995300  0.09896  0.94379   \n",
       "\n",
       "       Gz.4   Mx.4  My.4  Mz.4  Unnamed: 69  \n",
       "0  0.285880 -22.20  6.48  4.56      walking  \n",
       "1  0.198230 -21.90  7.14  5.34      walking  \n",
       "2  0.211970 -21.60  7.50  5.64      walking  \n",
       "3  0.164930 -21.12  8.40  6.12      walking  \n",
       "4  0.064752 -20.94  8.70  6.30      walking  \n",
       "\n",
       "[5 rows x 70 columns]"
      ]
     },
     "execution_count": 36,
     "metadata": {},
     "output_type": "execute_result"
    }
   ],
   "source": [
    "df = pd.DataFrame()\n",
    "for i in range(10):\n",
    "    df_tmp = pd.read_csv('../data/Participant_' + str(i+1) + '.csv', header=1)\n",
    "    df = pd.concat([df, df_tmp])\n",
    "\n",
    "# View top 5 rows of dataframe\n",
    "df.head()"
   ]
  },
  {
   "cell_type": "markdown",
   "metadata": {},
   "source": [
    "Now we split data into train and test sets (80% train, 20% test):\n"
   ]
  },
  {
   "cell_type": "code",
   "execution_count": 37,
   "metadata": {},
   "outputs": [
    {
     "name": "stdout",
     "output_type": "stream",
     "text": [
      "Number of train spamples:  504000\n",
      "Number of test spamples:  126000\n"
     ]
    }
   ],
   "source": [
    "split_point = int(len(df) * 0.8)\n",
    "train_data = df.iloc[:split_point, :]\n",
    "test_data = df.iloc[split_point:, :]\n",
    "\n",
    "print(\"Number of train spamples: \", len(train_data))\n",
    "print(\"Number of test spamples: \", len(test_data))"
   ]
  },
  {
   "cell_type": "markdown",
   "metadata": {},
   "source": [
    "As we only use right pocket's and left pocket's data, we should concatenate those into a single data frame:"
   ]
  },
  {
   "cell_type": "code",
   "execution_count": 38,
   "metadata": {},
   "outputs": [],
   "source": [
    "def concat(data):\n",
    "    \n",
    "    # Select left pocket data\n",
    "    left_pocket = data.iloc[:,1:10]\n",
    "    \n",
    "    #Square root of sum of squares of accelerometer, linear acceleration and gyroscope data\n",
    "    left_pocket[\"MA\"] = np.sqrt(np.square(left_pocket['Ax']) + np.square(left_pocket['Ay']) + np.square(left_pocket['Az']))\n",
    "    left_pocket[\"ML\"] = np.sqrt(np.square(left_pocket['Lx']) + np.square(left_pocket['Ly']) + np.square(left_pocket['Lz']))\n",
    "    left_pocket[\"MG\"] = np.sqrt(np.square(left_pocket['Gx']) + np.square(left_pocket['Gy']) + np.square(left_pocket['Gz']))\n",
    "    \n",
    "\n",
    "    # Select right pocket data\n",
    "    right_pocket = data.iloc[:,15:24]\n",
    "    right_pocket.columns=['Ax', 'Ay', 'Az', 'Lx', 'Ly', 'Lz', 'Gx', 'Gy', 'Gz']\n",
    "    \n",
    "    #Square root of sum of squares of accelerometer, linear acceleration and gyroscope data\n",
    "    right_pocket[\"MA\"] = np.sqrt(np.square(right_pocket['Ax']) + np.square(right_pocket['Ay']) + np.square(right_pocket['Az']))\n",
    "    right_pocket[\"ML\"] = np.sqrt(np.square(right_pocket['Lx']) + np.square(right_pocket['Ly']) + np.square(right_pocket['Lz']))\n",
    "    right_pocket[\"MG\"] = np.sqrt(np.square(right_pocket['Gx']) + np.square(right_pocket['Gy']) + np.square(right_pocket['Gz']))\n",
    "\n",
    "    \n",
    "    # Extract labels \n",
    "    labels = data.iloc[:, 69] \n",
    "    labels = labels.to_frame()\n",
    "    labels.columns=['Activity_Label']\n",
    "    labels = pd.concat([labels]*2, ignore_index=True)\n",
    "    #replace typo 'upsatirs' with upstairs! \n",
    "    labels.loc[(labels['Activity_Label'] == 'upsatirs')] = 'upstairs'\n",
    "    \n",
    "    #Concatenate left pocket and right pocket data into a single data frame (we only use left pocket and right pocket data)\n",
    "    frames = [left_pocket, right_pocket]\n",
    "    df = pd.concat(frames)\n",
    "   \n",
    "    return df, labels\n",
    "\n",
    "# Generate input data and labels\n",
    "train_X, train_y = concat(train_data)\n",
    "test_X, test_y = concat(test_data)"
   ]
  },
  {
   "cell_type": "code",
   "execution_count": 39,
   "metadata": {},
   "outputs": [
    {
     "data": {
      "text/html": [
       "<div>\n",
       "<style scoped>\n",
       "    .dataframe tbody tr th:only-of-type {\n",
       "        vertical-align: middle;\n",
       "    }\n",
       "\n",
       "    .dataframe tbody tr th {\n",
       "        vertical-align: top;\n",
       "    }\n",
       "\n",
       "    .dataframe thead th {\n",
       "        text-align: right;\n",
       "    }\n",
       "</style>\n",
       "<table border=\"1\" class=\"dataframe\">\n",
       "  <thead>\n",
       "    <tr style=\"text-align: right;\">\n",
       "      <th></th>\n",
       "      <th>Ax</th>\n",
       "      <th>Ay</th>\n",
       "      <th>Az</th>\n",
       "      <th>Lx</th>\n",
       "      <th>Ly</th>\n",
       "      <th>Lz</th>\n",
       "      <th>Gx</th>\n",
       "      <th>Gy</th>\n",
       "      <th>Gz</th>\n",
       "      <th>Mx</th>\n",
       "      <th>My</th>\n",
       "      <th>Mz</th>\n",
       "      <th>MA</th>\n",
       "      <th>ML</th>\n",
       "      <th>MG</th>\n",
       "    </tr>\n",
       "  </thead>\n",
       "  <tbody>\n",
       "    <tr>\n",
       "      <th>0</th>\n",
       "      <td>-1.81150</td>\n",
       "      <td>-14.873</td>\n",
       "      <td>-1.34840</td>\n",
       "      <td>-1.26910</td>\n",
       "      <td>-5.1057</td>\n",
       "      <td>-0.66445</td>\n",
       "      <td>-0.53206</td>\n",
       "      <td>-3.18690</td>\n",
       "      <td>0.23976</td>\n",
       "      <td>12.72</td>\n",
       "      <td>40.74</td>\n",
       "      <td>-6.00</td>\n",
       "      <td>15.043465</td>\n",
       "      <td>5.302856</td>\n",
       "      <td>3.239893</td>\n",
       "    </tr>\n",
       "    <tr>\n",
       "      <th>1</th>\n",
       "      <td>0.24517</td>\n",
       "      <td>-14.070</td>\n",
       "      <td>-0.84446</td>\n",
       "      <td>0.70147</td>\n",
       "      <td>-4.2969</td>\n",
       "      <td>-0.17199</td>\n",
       "      <td>-0.25229</td>\n",
       "      <td>-1.79660</td>\n",
       "      <td>0.40745</td>\n",
       "      <td>12.54</td>\n",
       "      <td>40.74</td>\n",
       "      <td>-6.78</td>\n",
       "      <td>14.097451</td>\n",
       "      <td>4.357177</td>\n",
       "      <td>1.859419</td>\n",
       "    </tr>\n",
       "    <tr>\n",
       "      <th>2</th>\n",
       "      <td>-0.57205</td>\n",
       "      <td>-14.628</td>\n",
       "      <td>-1.75700</td>\n",
       "      <td>-0.21760</td>\n",
       "      <td>-4.8531</td>\n",
       "      <td>-1.05650</td>\n",
       "      <td>-1.04920</td>\n",
       "      <td>0.29138</td>\n",
       "      <td>0.29230</td>\n",
       "      <td>12.42</td>\n",
       "      <td>40.68</td>\n",
       "      <td>-8.10</td>\n",
       "      <td>14.744242</td>\n",
       "      <td>4.971531</td>\n",
       "      <td>1.127458</td>\n",
       "    </tr>\n",
       "    <tr>\n",
       "      <th>3</th>\n",
       "      <td>-0.69464</td>\n",
       "      <td>-12.939</td>\n",
       "      <td>-3.09180</td>\n",
       "      <td>-0.32273</td>\n",
       "      <td>-3.1786</td>\n",
       "      <td>-2.21970</td>\n",
       "      <td>-2.37200</td>\n",
       "      <td>1.00820</td>\n",
       "      <td>0.34972</td>\n",
       "      <td>12.30</td>\n",
       "      <td>40.74</td>\n",
       "      <td>-8.52</td>\n",
       "      <td>13.321392</td>\n",
       "      <td>3.890337</td>\n",
       "      <td>2.600991</td>\n",
       "    </tr>\n",
       "    <tr>\n",
       "      <th>4</th>\n",
       "      <td>0.87170</td>\n",
       "      <td>-12.000</td>\n",
       "      <td>-1.56630</td>\n",
       "      <td>1.13740</td>\n",
       "      <td>-2.2390</td>\n",
       "      <td>-0.65476</td>\n",
       "      <td>-2.79010</td>\n",
       "      <td>0.65485</td>\n",
       "      <td>0.22724</td>\n",
       "      <td>12.24</td>\n",
       "      <td>40.80</td>\n",
       "      <td>-8.88</td>\n",
       "      <td>12.133143</td>\n",
       "      <td>2.595286</td>\n",
       "      <td>2.874913</td>\n",
       "    </tr>\n",
       "  </tbody>\n",
       "</table>\n",
       "</div>"
      ],
      "text/plain": [
       "        Ax      Ay       Az       Lx      Ly       Lz       Gx       Gy  \\\n",
       "0 -1.81150 -14.873 -1.34840 -1.26910 -5.1057 -0.66445 -0.53206 -3.18690   \n",
       "1  0.24517 -14.070 -0.84446  0.70147 -4.2969 -0.17199 -0.25229 -1.79660   \n",
       "2 -0.57205 -14.628 -1.75700 -0.21760 -4.8531 -1.05650 -1.04920  0.29138   \n",
       "3 -0.69464 -12.939 -3.09180 -0.32273 -3.1786 -2.21970 -2.37200  1.00820   \n",
       "4  0.87170 -12.000 -1.56630  1.13740 -2.2390 -0.65476 -2.79010  0.65485   \n",
       "\n",
       "        Gz     Mx     My    Mz         MA        ML        MG  \n",
       "0  0.23976  12.72  40.74 -6.00  15.043465  5.302856  3.239893  \n",
       "1  0.40745  12.54  40.74 -6.78  14.097451  4.357177  1.859419  \n",
       "2  0.29230  12.42  40.68 -8.10  14.744242  4.971531  1.127458  \n",
       "3  0.34972  12.30  40.74 -8.52  13.321392  3.890337  2.600991  \n",
       "4  0.22724  12.24  40.80 -8.88  12.133143  2.595286  2.874913  "
      ]
     },
     "execution_count": 39,
     "metadata": {},
     "output_type": "execute_result"
    }
   ],
   "source": [
    "train_X.head()"
   ]
  },
  {
   "cell_type": "code",
   "execution_count": 40,
   "metadata": {},
   "outputs": [
    {
     "data": {
      "text/html": [
       "<div>\n",
       "<style scoped>\n",
       "    .dataframe tbody tr th:only-of-type {\n",
       "        vertical-align: middle;\n",
       "    }\n",
       "\n",
       "    .dataframe tbody tr th {\n",
       "        vertical-align: top;\n",
       "    }\n",
       "\n",
       "    .dataframe thead th {\n",
       "        text-align: right;\n",
       "    }\n",
       "</style>\n",
       "<table border=\"1\" class=\"dataframe\">\n",
       "  <thead>\n",
       "    <tr style=\"text-align: right;\">\n",
       "      <th></th>\n",
       "      <th>Activity_Label</th>\n",
       "    </tr>\n",
       "  </thead>\n",
       "  <tbody>\n",
       "    <tr>\n",
       "      <th>0</th>\n",
       "      <td>walking</td>\n",
       "    </tr>\n",
       "    <tr>\n",
       "      <th>1</th>\n",
       "      <td>walking</td>\n",
       "    </tr>\n",
       "    <tr>\n",
       "      <th>2</th>\n",
       "      <td>walking</td>\n",
       "    </tr>\n",
       "    <tr>\n",
       "      <th>3</th>\n",
       "      <td>walking</td>\n",
       "    </tr>\n",
       "    <tr>\n",
       "      <th>4</th>\n",
       "      <td>walking</td>\n",
       "    </tr>\n",
       "  </tbody>\n",
       "</table>\n",
       "</div>"
      ],
      "text/plain": [
       "  Activity_Label\n",
       "0        walking\n",
       "1        walking\n",
       "2        walking\n",
       "3        walking\n",
       "4        walking"
      ]
     },
     "execution_count": 40,
     "metadata": {},
     "output_type": "execute_result"
    }
   ],
   "source": [
    "train_y.head()"
   ]
  },
  {
   "cell_type": "markdown",
   "metadata": {},
   "source": [
    "Next we use sliding window mechanism to generate data segments.\n",
    "We use Accelerometer, Linear acceleration and Gyroscope features and their sum of squares roots:\n"
   ]
  },
  {
   "cell_type": "code",
   "execution_count": 41,
   "metadata": {},
   "outputs": [],
   "source": [
    "N_TIME_STEPS = 100 #sliding window length\n",
    "STEP = 50 #Sliding window step size\n",
    "N_FEATURES = 12 \n",
    "\n",
    "def generate_sequence(x, y, n_time_steps, step):\n",
    "    \n",
    "    segments = []\n",
    "    labels = []\n",
    "    for i in range(0, len(x) - n_time_steps, step):\n",
    "        ax = x['Ax'].values[i: i + n_time_steps]\n",
    "        ay = x['Ay'].values[i: i + n_time_steps]\n",
    "        az = x['Az'].values[i: i + n_time_steps]\n",
    "\n",
    "        lx = x['Lx'].values[i: i + n_time_steps]\n",
    "        ly = x['Ly'].values[i: i + n_time_steps]\n",
    "        lz = x['Lz'].values[i: i + n_time_steps]\n",
    "        \n",
    "        gx = x['Gx'].values[i: i + n_time_steps]\n",
    "        gy = x['Gy'].values[i: i + n_time_steps]\n",
    "        gz = x['Gz'].values[i: i + n_time_steps]\n",
    "\n",
    "        MA = x['MA'].values[i: i + n_time_steps]\n",
    "        ML = x['ML'].values[i: i + n_time_steps]\n",
    "        MG = x['MG'].values[i: i + n_time_steps]\n",
    "       \n",
    "        label = stats.mode(y['Activity_Label'][i: i + n_time_steps])[0][0]\n",
    "        segments.append([ax, ay, az, lx, ly, lz, gx, gy, gz, MA, ML, MG])\n",
    "        labels.append(label)\n",
    "        \n",
    "    return segments, labels\n",
    "\n",
    "train_X, train_y = generate_sequence(train_X, train_y, N_TIME_STEPS, STEP)\n",
    "test_X, test_y = generate_sequence(test_X, test_y, N_TIME_STEPS, STEP)"
   ]
  },
  {
   "cell_type": "code",
   "execution_count": 42,
   "metadata": {},
   "outputs": [],
   "source": [
    "# reshape input segments and one-hot encode labels\n",
    "def reshape_segments(x, y, n_time_steps, n_features):\n",
    "    \n",
    "    x_reshaped = np.asarray(x, dtype= np.float32).reshape(-1, n_time_steps, n_features)\n",
    "    y_reshaped = np.asarray(pd.get_dummies(y), dtype = np.float32)\n",
    "    return x_reshaped, y_reshaped\n",
    "\n",
    "X_train, y_train = reshape_segments(train_X, train_y, N_TIME_STEPS, N_FEATURES)\n",
    "X_test, y_test = reshape_segments(test_X, test_y, N_TIME_STEPS, N_FEATURES)"
   ]
  },
  {
   "cell_type": "markdown",
   "metadata": {},
   "source": [
    "## Building the model"
   ]
  },
  {
   "cell_type": "code",
   "execution_count": 19,
   "metadata": {},
   "outputs": [],
   "source": [
    "from keras.regularizers import l2\n",
    "from keras.models import Sequential\n",
    "from keras.layers import Dense\n",
    "from keras.layers import LSTM\n",
    "from keras.layers import Flatten\n",
    "from keras import optimizers\n",
    "\n",
    "N_CLASSES = 7\n",
    "N_HIDDEN_UNITS = 32\n",
    "L2 = 0.000001\n",
    "\n",
    "model = Sequential([\n",
    "    LSTM(N_HIDDEN_UNITS, return_sequences=True, input_shape=(N_TIME_STEPS, N_FEATURES), \n",
    "         kernel_initializer='orthogonal', kernel_regularizer=l2(L2), recurrent_regularizer=l2(L2),\n",
    "         bias_regularizer=l2(L2), name=\"LSTM_1\"),\n",
    "    Flatten(name='Flatten'),\n",
    "    Dense(N_HIDDEN_UNITS, activation='relu', kernel_regularizer=l2(L2), bias_regularizer=l2(L2), name=\"Dense_1\"),\n",
    "    Dense(N_CLASSES, activation='softmax', kernel_regularizer=l2(L2), bias_regularizer=l2(L2), name=\"Dense_2\")\n",
    "])"
   ]
  },
  {
   "cell_type": "code",
   "execution_count": 20,
   "metadata": {},
   "outputs": [
    {
     "name": "stdout",
     "output_type": "stream",
     "text": [
      "_________________________________________________________________\n",
      "Layer (type)                 Output Shape              Param #   \n",
      "=================================================================\n",
      "LSTM_1 (LSTM)                (None, 100, 32)           5760      \n",
      "_________________________________________________________________\n",
      "Flatten (Flatten)            (None, 3200)              0         \n",
      "_________________________________________________________________\n",
      "Dense_1 (Dense)              (None, 32)                102432    \n",
      "_________________________________________________________________\n",
      "Dense_2 (Dense)              (None, 7)                 231       \n",
      "=================================================================\n",
      "Total params: 108,423\n",
      "Trainable params: 108,423\n",
      "Non-trainable params: 0\n",
      "_________________________________________________________________\n"
     ]
    }
   ],
   "source": [
    "model.summary()"
   ]
  },
  {
   "cell_type": "markdown",
   "metadata": {},
   "source": [
    "## Training & Evaluation"
   ]
  },
  {
   "cell_type": "code",
   "execution_count": 21,
   "metadata": {},
   "outputs": [],
   "source": [
    "opt = optimizers.RMSprop(lr=0.0001)\n",
    "\n",
    "model.compile(optimizer=opt,\n",
    "              loss='categorical_crossentropy',\n",
    "              metrics=['accuracy'])"
   ]
  },
  {
   "cell_type": "code",
   "execution_count": 22,
   "metadata": {},
   "outputs": [
    {
     "name": "stdout",
     "output_type": "stream",
     "text": [
      "Train on 20158 samples, validate on 5038 samples\n",
      "Epoch 1/30\n",
      "20158/20158 [==============================] - 4s 219us/step - loss: 1.6302 - acc: 0.4905 - val_loss: 1.4014 - val_acc: 0.6961\n",
      "Epoch 2/30\n",
      "20158/20158 [==============================] - 4s 176us/step - loss: 1.1727 - acc: 0.7757 - val_loss: 1.0474 - val_acc: 0.8253\n",
      "Epoch 3/30\n",
      "20158/20158 [==============================] - 4s 177us/step - loss: 0.8512 - acc: 0.8665 - val_loss: 0.7839 - val_acc: 0.9057\n",
      "Epoch 4/30\n",
      "20158/20158 [==============================] - 4s 176us/step - loss: 0.6219 - acc: 0.9183 - val_loss: 0.5971 - val_acc: 0.9311\n",
      "Epoch 5/30\n",
      "20158/20158 [==============================] - 4s 176us/step - loss: 0.4626 - acc: 0.9369 - val_loss: 0.4643 - val_acc: 0.9508\n",
      "Epoch 6/30\n",
      "20158/20158 [==============================] - 4s 176us/step - loss: 0.3523 - acc: 0.9473 - val_loss: 0.3675 - val_acc: 0.9553\n",
      "Epoch 7/30\n",
      "20158/20158 [==============================] - 4s 176us/step - loss: 0.2748 - acc: 0.9557 - val_loss: 0.2951 - val_acc: 0.9657\n",
      "Epoch 8/30\n",
      "20158/20158 [==============================] - 4s 176us/step - loss: 0.2207 - acc: 0.9627 - val_loss: 0.2484 - val_acc: 0.9657\n",
      "Epoch 9/30\n",
      "20158/20158 [==============================] - 4s 181us/step - loss: 0.1821 - acc: 0.9678 - val_loss: 0.2054 - val_acc: 0.9726\n",
      "Epoch 10/30\n",
      "20158/20158 [==============================] - 4s 176us/step - loss: 0.1526 - acc: 0.9717 - val_loss: 0.1885 - val_acc: 0.9682\n",
      "Epoch 11/30\n",
      "20158/20158 [==============================] - 4s 178us/step - loss: 0.1310 - acc: 0.9751 - val_loss: 0.1558 - val_acc: 0.9780\n",
      "Epoch 12/30\n",
      "20158/20158 [==============================] - 4s 176us/step - loss: 0.1138 - acc: 0.9785 - val_loss: 0.1351 - val_acc: 0.9803\n",
      "Epoch 13/30\n",
      "20158/20158 [==============================] - 4s 175us/step - loss: 0.1009 - acc: 0.9797 - val_loss: 0.1248 - val_acc: 0.9794\n",
      "Epoch 14/30\n",
      "20158/20158 [==============================] - 4s 177us/step - loss: 0.0900 - acc: 0.9814 - val_loss: 0.1207 - val_acc: 0.9774\n",
      "Epoch 15/30\n",
      "20158/20158 [==============================] - 4s 176us/step - loss: 0.0817 - acc: 0.9835 - val_loss: 0.1037 - val_acc: 0.9819\n",
      "Epoch 16/30\n",
      "20158/20158 [==============================] - 4s 176us/step - loss: 0.0740 - acc: 0.9847 - val_loss: 0.1034 - val_acc: 0.9807\n",
      "Epoch 17/30\n",
      "20158/20158 [==============================] - 4s 177us/step - loss: 0.0678 - acc: 0.9857 - val_loss: 0.0961 - val_acc: 0.9815\n",
      "Epoch 18/30\n",
      "20158/20158 [==============================] - 4s 176us/step - loss: 0.0629 - acc: 0.9867 - val_loss: 0.0897 - val_acc: 0.9811\n",
      "Epoch 19/30\n",
      "20158/20158 [==============================] - 4s 176us/step - loss: 0.0581 - acc: 0.9873 - val_loss: 0.0867 - val_acc: 0.9825\n",
      "Epoch 20/30\n",
      "20158/20158 [==============================] - 4s 177us/step - loss: 0.0541 - acc: 0.9882 - val_loss: 0.0831 - val_acc: 0.9829\n",
      "Epoch 21/30\n",
      "20158/20158 [==============================] - 4s 176us/step - loss: 0.0505 - acc: 0.9888 - val_loss: 0.0809 - val_acc: 0.9837\n",
      "Epoch 22/30\n",
      "20158/20158 [==============================] - 4s 176us/step - loss: 0.0473 - acc: 0.9895 - val_loss: 0.0823 - val_acc: 0.9811\n",
      "Epoch 23/30\n",
      "20158/20158 [==============================] - 4s 180us/step - loss: 0.0445 - acc: 0.9900 - val_loss: 0.0724 - val_acc: 0.9845\n",
      "Epoch 24/30\n",
      "20158/20158 [==============================] - 4s 175us/step - loss: 0.0422 - acc: 0.9904 - val_loss: 0.0721 - val_acc: 0.9841\n",
      "Epoch 25/30\n",
      "20158/20158 [==============================] - 4s 176us/step - loss: 0.0399 - acc: 0.9908 - val_loss: 0.0742 - val_acc: 0.9815\n",
      "Epoch 26/30\n",
      "20158/20158 [==============================] - 4s 176us/step - loss: 0.0377 - acc: 0.9910 - val_loss: 0.0725 - val_acc: 0.9815\n",
      "Epoch 27/30\n",
      "20158/20158 [==============================] - 4s 176us/step - loss: 0.0358 - acc: 0.9915 - val_loss: 0.0758 - val_acc: 0.9811\n",
      "Epoch 28/30\n",
      "20158/20158 [==============================] - 4s 176us/step - loss: 0.0337 - acc: 0.9918 - val_loss: 0.0764 - val_acc: 0.9802\n",
      "Epoch 29/30\n",
      "20158/20158 [==============================] - 4s 176us/step - loss: 0.0321 - acc: 0.9927 - val_loss: 0.0668 - val_acc: 0.9831\n",
      "Epoch 30/30\n",
      "20158/20158 [==============================] - 4s 180us/step - loss: 0.0307 - acc: 0.9931 - val_loss: 0.0684 - val_acc: 0.9829\n"
     ]
    },
    {
     "data": {
      "text/plain": [
       "<keras.callbacks.History at 0x7f53844058d0>"
      ]
     },
     "execution_count": 22,
     "metadata": {},
     "output_type": "execute_result"
    }
   ],
   "source": [
    "BATCH_SIZE = 1024\n",
    "N_EPOCHS = 30\n",
    "\n",
    "model.fit(X_train, y_train,\n",
    "          batch_size=BATCH_SIZE, epochs=N_EPOCHS,\n",
    "          validation_data=(X_test, y_test))"
   ]
  },
  {
   "cell_type": "markdown",
   "metadata": {},
   "source": [
    "## Confusion Matrix"
   ]
  },
  {
   "cell_type": "code",
   "execution_count": 32,
   "metadata": {},
   "outputs": [
    {
     "data": {
      "image/png": "[encoded data removed]",
      "text/plain": [
       "<Figure size 1152x1008 with 2 Axes>"
      ]
     },
     "metadata": {},
     "output_type": "display_data"
    }
   ],
   "source": [
    "y_pred_ohe = model.predict(X_test)\n",
    "y_pred_labels = np.argmax(y_pred_ohe, axis=1)\n",
    "y_true_labels = np.argmax(y_test, axis=1)\n",
    "confusion_matrix = metrics.confusion_matrix(y_true=y_true_labels, y_pred=y_pred_labels)\n",
    "\n",
    "LABELS = ['Biking' ,' Downstairs', 'Jogging', 'Sitting', 'Standing', 'Upstairs', 'Walking']\n",
    "\n",
    "plt.figure(figsize=(16, 14))\n",
    "sns.set(style='whitegrid', palette='muted', font_scale=1.5)\n",
    "sns.heatmap(confusion_matrix, xticklabels=LABELS, yticklabels=LABELS, annot=True, fmt=\"d\");\n",
    "plt.title(\"Confusion matrix\")\n",
    "plt.ylabel('True label')\n",
    "plt.xlabel('Predicted label')\n",
    "plt.show();"
   ]
  },
  {
   "cell_type": "markdown",
   "metadata": {},
   "source": [
    "## Exporting the model "
   ]
  },
  {
   "cell_type": "markdown",
   "metadata": {},
   "source": [
    "Finally we export the trained model in a format which easily can be used in our android application for on-device inference. The exported model will be named \"frozen_HAR.pb\" and be stored under models directory:"
   ]
  },
  {
   "cell_type": "code",
   "execution_count": 15,
   "metadata": {},
   "outputs": [
    {
     "name": "stdout",
     "output_type": "stream",
     "text": [
      "WARNING:tensorflow:From /data/anaconda/envs/py36/lib/python3.6/site-packages/tensorflow/python/tools/freeze_graph.py:249: FastGFile.__init__ (from tensorflow.python.platform.gfile) is deprecated and will be removed in a future version.\n",
      "Instructions for updating:\n",
      "Use tf.gfile.GFile.\n",
      "WARNING:tensorflow:From /data/anaconda/envs/py36/lib/python3.6/site-packages/tensorflow/python/tools/freeze_graph.py:127: checkpoint_exists (from tensorflow.python.training.checkpoint_management) is deprecated and will be removed in a future version.\n",
      "Instructions for updating:\n",
      "Use standard file APIs to check for files with this prefix.\n",
      "INFO:tensorflow:Restoring parameters from models/HAR.chkp\n",
      "WARNING:tensorflow:From /data/anaconda/envs/py36/lib/python3.6/site-packages/tensorflow/python/tools/freeze_graph.py:232: convert_variables_to_constants (from tensorflow.python.framework.graph_util_impl) is deprecated and will be removed in a future version.\n",
      "Instructions for updating:\n",
      "Use tf.compat.v1.graph_util.convert_variables_to_constants\n",
      "WARNING:tensorflow:From /data/anaconda/envs/py36/lib/python3.6/site-packages/tensorflow/python/framework/graph_util_impl.py:245: extract_sub_graph (from tensorflow.python.framework.graph_util_impl) is deprecated and will be removed in a future version.\n",
      "Instructions for updating:\n",
      "Use tf.compat.v1.graph_util.extract_sub_graph\n",
      "INFO:tensorflow:Froze 7 variables.\n",
      "INFO:tensorflow:Converted 7 variables to const ops.\n"
     ]
    }
   ],
   "source": [
    "from keras import backend as K\n",
    "from tensorflow.python.tools import freeze_graph\n",
    "from tensorflow.python.tools import optimize_for_inference_lib\n",
    "\n",
    "input_node_names= [\"LSTM_1_input\"]\n",
    "output_node_name = \"Dense_2/Softmax\"\n",
    "MODEL_NAME = \"HAR\"\n",
    "\n",
    "tf.train.write_graph(K.get_session().graph_def, 'models', \\\n",
    "        MODEL_NAME + '_graph.pbtxt')\n",
    "saver = tf.train.Saver()\n",
    "saver.save(K.get_session(), 'models/' + MODEL_NAME + '.chkp')\n",
    "\n",
    "freeze_graph.freeze_graph('models/' + MODEL_NAME + '_graph.pbtxt', None, \\\n",
    "    False, 'models/' + MODEL_NAME + '.chkp', output_node_name, \\\n",
    "    \"save/restore_all\", \"save/Const:0\", \\\n",
    "    'models/frozen_' + MODEL_NAME + '.pb', True, \"\")"
   ]
  },
  {
   "cell_type": "code",
   "execution_count": null,
   "metadata": {},
   "outputs": [],
   "source": []
  }
 ],
 "metadata": {
  "kernelspec": {
   "display_name": "Python 3",
   "language": "python",
   "name": "python3"
  },
  "language_info": {
   "codemirror_mode": {
    "name": "ipython",
    "version": 3
   },
   "file_extension": ".py",
   "mimetype": "text/x-python",
   "name": "python",
   "nbconvert_exporter": "python",
   "pygments_lexer": "ipython3",
   "version": "3.6.8"
  }
 },
 "nbformat": 4,
 "nbformat_minor": 2
}
