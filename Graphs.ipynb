{
 "cells": [
  {
   "cell_type": "code",
   "execution_count": 1,
   "id": "500e3b9a",
   "metadata": {},
   "outputs": [],
   "source": [
    "import numpy as np\n",
    "import pandas as pd\n",
    "import warnings\n",
    "import os\n",
    "\n",
    "warnings.filterwarnings(\"ignore\")"
   ]
  },
  {
   "cell_type": "code",
   "execution_count": 2,
   "id": "4fce0048",
   "metadata": {
    "scrolled": true
   },
   "outputs": [
    {
     "data": {
      "text/plain": [
       "['Participant_1.csv',\n",
       " 'Participant_10.csv',\n",
       " 'Participant_2.csv',\n",
       " 'Participant_3.csv',\n",
       " 'Participant_4.csv',\n",
       " 'Participant_5.csv',\n",
       " 'Participant_6.csv',\n",
       " 'Participant_7.csv',\n",
       " 'Participant_8.csv',\n",
       " 'Participant_9.csv']"
      ]
     },
     "execution_count": 2,
     "metadata": {},
     "output_type": "execute_result"
    }
   ],
   "source": [
    "path='data/'\n",
    "files=[file for file in os.listdir(path) if file.endswith('.csv')]\n",
    "files\n"
   ]
  },
  {
   "cell_type": "code",
   "execution_count": 3,
   "id": "bda881ba",
   "metadata": {},
   "outputs": [
    {
     "data": {
      "text/html": [
       "<div>\n",
       "<style scoped>\n",
       "    .dataframe tbody tr th:only-of-type {\n",
       "        vertical-align: middle;\n",
       "    }\n",
       "\n",
       "    .dataframe tbody tr th {\n",
       "        vertical-align: top;\n",
       "    }\n",
       "\n",
       "    .dataframe thead th {\n",
       "        text-align: right;\n",
       "    }\n",
       "</style>\n",
       "<table border=\"1\" class=\"dataframe\">\n",
       "  <thead>\n",
       "    <tr style=\"text-align: right;\">\n",
       "      <th></th>\n",
       "      <th>time_stamp</th>\n",
       "      <th>Ax</th>\n",
       "      <th>Ay</th>\n",
       "      <th>Az</th>\n",
       "      <th>Lx</th>\n",
       "      <th>Ly</th>\n",
       "      <th>Lz</th>\n",
       "      <th>Gx</th>\n",
       "      <th>Gy</th>\n",
       "      <th>Gz</th>\n",
       "      <th>...</th>\n",
       "      <th>Lx.4</th>\n",
       "      <th>Ly.4</th>\n",
       "      <th>Lz.4</th>\n",
       "      <th>Gx.4</th>\n",
       "      <th>Gy.4</th>\n",
       "      <th>Gz.4</th>\n",
       "      <th>Mx.4</th>\n",
       "      <th>My.4</th>\n",
       "      <th>Mz.4</th>\n",
       "      <th>Unnamed: 69</th>\n",
       "    </tr>\n",
       "  </thead>\n",
       "  <tbody>\n",
       "    <tr>\n",
       "      <th>0</th>\n",
       "      <td>1.390000e+12</td>\n",
       "      <td>-1.81150</td>\n",
       "      <td>-14.873</td>\n",
       "      <td>-1.34840</td>\n",
       "      <td>-1.26910</td>\n",
       "      <td>-5.1057</td>\n",
       "      <td>-0.66445</td>\n",
       "      <td>-0.53206</td>\n",
       "      <td>-3.18690</td>\n",
       "      <td>0.23976</td>\n",
       "      <td>...</td>\n",
       "      <td>-5.3574</td>\n",
       "      <td>-0.95749</td>\n",
       "      <td>0.318860</td>\n",
       "      <td>0.52565</td>\n",
       "      <td>-0.18815</td>\n",
       "      <td>0.285880</td>\n",
       "      <td>-22.20</td>\n",
       "      <td>6.48</td>\n",
       "      <td>4.56</td>\n",
       "      <td>walking</td>\n",
       "    </tr>\n",
       "    <tr>\n",
       "      <th>1</th>\n",
       "      <td>1.390000e+12</td>\n",
       "      <td>0.24517</td>\n",
       "      <td>-14.070</td>\n",
       "      <td>-0.84446</td>\n",
       "      <td>0.70147</td>\n",
       "      <td>-4.2969</td>\n",
       "      <td>-0.17199</td>\n",
       "      <td>-0.25229</td>\n",
       "      <td>-1.79660</td>\n",
       "      <td>0.40745</td>\n",
       "      <td>...</td>\n",
       "      <td>-4.5352</td>\n",
       "      <td>-0.67629</td>\n",
       "      <td>0.081656</td>\n",
       "      <td>0.43616</td>\n",
       "      <td>0.16371</td>\n",
       "      <td>0.198230</td>\n",
       "      <td>-21.90</td>\n",
       "      <td>7.14</td>\n",
       "      <td>5.34</td>\n",
       "      <td>walking</td>\n",
       "    </tr>\n",
       "    <tr>\n",
       "      <th>2</th>\n",
       "      <td>1.390000e+12</td>\n",
       "      <td>-0.57205</td>\n",
       "      <td>-14.628</td>\n",
       "      <td>-1.75700</td>\n",
       "      <td>-0.21760</td>\n",
       "      <td>-4.8531</td>\n",
       "      <td>-1.05650</td>\n",
       "      <td>-1.04920</td>\n",
       "      <td>0.29138</td>\n",
       "      <td>0.29230</td>\n",
       "      <td>...</td>\n",
       "      <td>-4.0408</td>\n",
       "      <td>-0.55974</td>\n",
       "      <td>-0.523690</td>\n",
       "      <td>0.32284</td>\n",
       "      <td>0.43127</td>\n",
       "      <td>0.211970</td>\n",
       "      <td>-21.60</td>\n",
       "      <td>7.50</td>\n",
       "      <td>5.64</td>\n",
       "      <td>walking</td>\n",
       "    </tr>\n",
       "    <tr>\n",
       "      <th>3</th>\n",
       "      <td>1.390000e+12</td>\n",
       "      <td>-0.69464</td>\n",
       "      <td>-12.939</td>\n",
       "      <td>-3.09180</td>\n",
       "      <td>-0.32273</td>\n",
       "      <td>-3.1786</td>\n",
       "      <td>-2.21970</td>\n",
       "      <td>-2.37200</td>\n",
       "      <td>1.00820</td>\n",
       "      <td>0.34972</td>\n",
       "      <td>...</td>\n",
       "      <td>-3.5908</td>\n",
       "      <td>0.15795</td>\n",
       "      <td>-1.880200</td>\n",
       "      <td>0.20403</td>\n",
       "      <td>0.72846</td>\n",
       "      <td>0.164930</td>\n",
       "      <td>-21.12</td>\n",
       "      <td>8.40</td>\n",
       "      <td>6.12</td>\n",
       "      <td>walking</td>\n",
       "    </tr>\n",
       "    <tr>\n",
       "      <th>4</th>\n",
       "      <td>1.390000e+12</td>\n",
       "      <td>0.87170</td>\n",
       "      <td>-12.000</td>\n",
       "      <td>-1.56630</td>\n",
       "      <td>1.13740</td>\n",
       "      <td>-2.2390</td>\n",
       "      <td>-0.65476</td>\n",
       "      <td>-2.79010</td>\n",
       "      <td>0.65485</td>\n",
       "      <td>0.22724</td>\n",
       "      <td>...</td>\n",
       "      <td>-1.9450</td>\n",
       "      <td>0.85796</td>\n",
       "      <td>-2.995300</td>\n",
       "      <td>0.09896</td>\n",
       "      <td>0.94379</td>\n",
       "      <td>0.064752</td>\n",
       "      <td>-20.94</td>\n",
       "      <td>8.70</td>\n",
       "      <td>6.30</td>\n",
       "      <td>walking</td>\n",
       "    </tr>\n",
       "  </tbody>\n",
       "</table>\n",
       "<p>5 rows × 70 columns</p>\n",
       "</div>"
      ],
      "text/plain": [
       "     time_stamp       Ax      Ay       Az       Lx      Ly       Lz       Gx  \\\n",
       "0  1.390000e+12 -1.81150 -14.873 -1.34840 -1.26910 -5.1057 -0.66445 -0.53206   \n",
       "1  1.390000e+12  0.24517 -14.070 -0.84446  0.70147 -4.2969 -0.17199 -0.25229   \n",
       "2  1.390000e+12 -0.57205 -14.628 -1.75700 -0.21760 -4.8531 -1.05650 -1.04920   \n",
       "3  1.390000e+12 -0.69464 -12.939 -3.09180 -0.32273 -3.1786 -2.21970 -2.37200   \n",
       "4  1.390000e+12  0.87170 -12.000 -1.56630  1.13740 -2.2390 -0.65476 -2.79010   \n",
       "\n",
       "        Gy       Gz  ...    Lx.4     Ly.4      Lz.4     Gx.4     Gy.4  \\\n",
       "0 -3.18690  0.23976  ... -5.3574 -0.95749  0.318860  0.52565 -0.18815   \n",
       "1 -1.79660  0.40745  ... -4.5352 -0.67629  0.081656  0.43616  0.16371   \n",
       "2  0.29138  0.29230  ... -4.0408 -0.55974 -0.523690  0.32284  0.43127   \n",
       "3  1.00820  0.34972  ... -3.5908  0.15795 -1.880200  0.20403  0.72846   \n",
       "4  0.65485  0.22724  ... -1.9450  0.85796 -2.995300  0.09896  0.94379   \n",
       "\n",
       "       Gz.4   Mx.4  My.4  Mz.4  Unnamed: 69  \n",
       "0  0.285880 -22.20  6.48  4.56      walking  \n",
       "1  0.198230 -21.90  7.14  5.34      walking  \n",
       "2  0.211970 -21.60  7.50  5.64      walking  \n",
       "3  0.164930 -21.12  8.40  6.12      walking  \n",
       "4  0.064752 -20.94  8.70  6.30      walking  \n",
       "\n",
       "[5 rows x 70 columns]"
      ]
     },
     "execution_count": 3,
     "metadata": {},
     "output_type": "execute_result"
    }
   ],
   "source": [
    "df=pd.read_csv(path+files[0],header=1)\n",
    "df.head()"
   ]
  },
  {
   "cell_type": "code",
   "execution_count": 4,
   "id": "7aebae74",
   "metadata": {},
   "outputs": [
    {
     "data": {
      "text/plain": [
       "array(['walking', 'standing', 'jogging', 'sitting', 'biking', 'upstairs',\n",
       "       'downstairs'], dtype=object)"
      ]
     },
     "execution_count": 4,
     "metadata": {},
     "output_type": "execute_result"
    }
   ],
   "source": [
    "df['Unnamed: 69'].unique()"
   ]
  },
  {
   "cell_type": "code",
   "execution_count": 5,
   "id": "117d1754",
   "metadata": {},
   "outputs": [
    {
     "ename": "NameError",
     "evalue": "name 'plt' is not defined",
     "output_type": "error",
     "traceback": [
      "\u001b[1;31m---------------------------------------------------------------------------\u001b[0m",
      "\u001b[1;31mNameError\u001b[0m                                 Traceback (most recent call last)",
      "\u001b[1;32m<ipython-input-5-bab7b8cea695>\u001b[0m in \u001b[0;36m<module>\u001b[1;34m\u001b[0m\n\u001b[1;32m----> 1\u001b[1;33m \u001b[0mplt\u001b[0m\u001b[1;33m.\u001b[0m\u001b[0mtitle\u001b[0m\u001b[1;33m(\u001b[0m\u001b[1;34m'Change in accelerometer readings while standing'\u001b[0m\u001b[1;33m,\u001b[0m \u001b[0mfontsize\u001b[0m\u001b[1;33m=\u001b[0m\u001b[1;36m16\u001b[0m\u001b[1;33m)\u001b[0m\u001b[1;33m\u001b[0m\u001b[0m\n\u001b[0m\u001b[0;32m      2\u001b[0m \u001b[0mplt\u001b[0m\u001b[1;33m.\u001b[0m\u001b[0mplot\u001b[0m\u001b[1;33m(\u001b[0m\u001b[0mnp\u001b[0m\u001b[1;33m.\u001b[0m\u001b[0marange\u001b[0m\u001b[1;33m(\u001b[0m\u001b[1;36m0\u001b[0m\u001b[1;33m,\u001b[0m\u001b[1;36m100\u001b[0m\u001b[1;33m)\u001b[0m\u001b[1;33m,\u001b[0m\u001b[0mdf\u001b[0m\u001b[1;33m.\u001b[0m\u001b[0mAx\u001b[0m\u001b[1;33m[\u001b[0m\u001b[0mdf\u001b[0m\u001b[1;33m[\u001b[0m\u001b[1;34m'Unnamed: 69'\u001b[0m\u001b[1;33m]\u001b[0m\u001b[1;33m==\u001b[0m\u001b[1;34m\"standing\"\u001b[0m\u001b[1;33m]\u001b[0m\u001b[1;33m[\u001b[0m\u001b[1;33m:\u001b[0m\u001b[1;36m100\u001b[0m\u001b[1;33m]\u001b[0m\u001b[1;33m,\u001b[0m \u001b[0mlabel\u001b[0m\u001b[1;33m=\u001b[0m\u001b[1;34m'Acc-X'\u001b[0m\u001b[1;33m)\u001b[0m\u001b[1;33m\u001b[0m\u001b[0m\n\u001b[0;32m      3\u001b[0m \u001b[0mplt\u001b[0m\u001b[1;33m.\u001b[0m\u001b[0mplot\u001b[0m\u001b[1;33m(\u001b[0m\u001b[0mnp\u001b[0m\u001b[1;33m.\u001b[0m\u001b[0marange\u001b[0m\u001b[1;33m(\u001b[0m\u001b[1;36m0\u001b[0m\u001b[1;33m,\u001b[0m\u001b[1;36m100\u001b[0m\u001b[1;33m)\u001b[0m\u001b[1;33m,\u001b[0m\u001b[0mdf\u001b[0m\u001b[1;33m.\u001b[0m\u001b[0mAy\u001b[0m\u001b[1;33m[\u001b[0m\u001b[0mdf\u001b[0m\u001b[1;33m[\u001b[0m\u001b[1;34m'Unnamed: 69'\u001b[0m\u001b[1;33m]\u001b[0m\u001b[1;33m==\u001b[0m\u001b[1;34m\"standing\"\u001b[0m\u001b[1;33m]\u001b[0m\u001b[1;33m[\u001b[0m\u001b[1;33m:\u001b[0m\u001b[1;36m100\u001b[0m\u001b[1;33m]\u001b[0m\u001b[1;33m,\u001b[0m \u001b[0mlabel\u001b[0m\u001b[1;33m=\u001b[0m\u001b[1;34m'Acc-Y'\u001b[0m\u001b[1;33m)\u001b[0m\u001b[1;33m\u001b[0m\u001b[0m\n\u001b[0;32m      4\u001b[0m \u001b[0mplt\u001b[0m\u001b[1;33m.\u001b[0m\u001b[0mplot\u001b[0m\u001b[1;33m(\u001b[0m\u001b[0mnp\u001b[0m\u001b[1;33m.\u001b[0m\u001b[0marange\u001b[0m\u001b[1;33m(\u001b[0m\u001b[1;36m0\u001b[0m\u001b[1;33m,\u001b[0m\u001b[1;36m100\u001b[0m\u001b[1;33m)\u001b[0m\u001b[1;33m,\u001b[0m\u001b[0mdf\u001b[0m\u001b[1;33m.\u001b[0m\u001b[0mAz\u001b[0m\u001b[1;33m[\u001b[0m\u001b[0mdf\u001b[0m\u001b[1;33m[\u001b[0m\u001b[1;34m'Unnamed: 69'\u001b[0m\u001b[1;33m]\u001b[0m\u001b[1;33m==\u001b[0m\u001b[1;34m\"standing\"\u001b[0m\u001b[1;33m]\u001b[0m\u001b[1;33m[\u001b[0m\u001b[1;33m:\u001b[0m\u001b[1;36m100\u001b[0m\u001b[1;33m]\u001b[0m\u001b[1;33m,\u001b[0m \u001b[0mlabel\u001b[0m\u001b[1;33m=\u001b[0m\u001b[1;34m'Acc-Z'\u001b[0m\u001b[1;33m)\u001b[0m\u001b[1;33m\u001b[0m\u001b[0m\n\u001b[0;32m      5\u001b[0m \u001b[0mplt\u001b[0m\u001b[1;33m.\u001b[0m\u001b[0mlegend\u001b[0m\u001b[1;33m(\u001b[0m\u001b[1;33m)\u001b[0m\u001b[1;33m\u001b[0m\u001b[0m\n",
      "\u001b[1;31mNameError\u001b[0m: name 'plt' is not defined"
     ]
    }
   ],
   "source": [
    "plt.title('Change in accelerometer readings while standing', fontsize=16)\n",
    "plt.plot(np.arange(0,100),df.Ax[df['Unnamed: 69']==\"standing\"][:100], label='Acc-X')\n",
    "plt.plot(np.arange(0,100),df.Ay[df['Unnamed: 69']==\"standing\"][:100], label='Acc-Y')\n",
    "plt.plot(np.arange(0,100),df.Az[df['Unnamed: 69']==\"standing\"][:100], label='Acc-Z')\n",
    "plt.legend()"
   ]
  },
  {
   "cell_type": "code",
   "execution_count": null,
   "id": "adffcefb",
   "metadata": {},
   "outputs": [],
   "source": [
    "plt.title('Change in gyroscope readings while standing', fontsize=16)\n",
    "\n",
    "plt.plot(np.arange(0,100),df.Gx[df['Unnamed: 69']==\"standing\"][:100], label='Gyr-X')\n",
    "plt.plot(np.arange(0,100),df.Gy[df['Unnamed: 69']==\"standing\"][:100], label='Gyr-Y')\n",
    "plt.plot(np.arange(0,100),df.Gz[df['Unnamed: 69']==\"standing\"][:100], label='Gyr-Z')\n",
    "plt.legend()"
   ]
  },
  {
   "cell_type": "code",
   "execution_count": null,
   "id": "70f3b897",
   "metadata": {},
   "outputs": [],
   "source": [
    "plt.title('Change in linear acc readings while standing', fontsize=16)\n",
    "\n",
    "plt.plot(np.arange(0,100),df.Lx[df['Unnamed: 69']==\"standing\"][:100], label='LAcc-X')\n",
    "plt.plot(np.arange(0,100),df.Ly[df['Unnamed: 69']==\"standing\"][:100], label='LAcc-Y')\n",
    "plt.plot(np.arange(0,100),df.Lz[df['Unnamed: 69']==\"standing\"][:100], label='LAcc-Z')\n",
    "plt.legend()"
   ]
  },
  {
   "cell_type": "code",
   "execution_count": null,
   "id": "a09b80bb",
   "metadata": {},
   "outputs": [],
   "source": [
    "plt.title('Change in accelerometer readings while standing', fontsize=16)\n",
    "plt.plot(np.arange(0,100),df.Ax[df['Unnamed: 69']==\"standing\"][:100], label='Acc-X')\n",
    "plt.plot(np.arange(0,100),df.Ay[df['Unnamed: 69']==\"standing\"][:100], label='Acc-Y')\n",
    "plt.plot(np.arange(0,100),df.Az[df['Unnamed: 69']==\"standing\"][:100], label='Acc-Z')\n",
    "plt.legend()"
   ]
  },
  {
   "cell_type": "code",
   "execution_count": null,
   "id": "6cbd3984",
   "metadata": {},
   "outputs": [],
   "source": [
    "plt.title('Change in accelerometer readings while walking', fontsize=16)\n",
    "plt.plot(np.arange(0,100),df.Ax[df['Unnamed: 69']==\"walking\"][:100], label='Acc-X')\n",
    "plt.plot(np.arange(0,100),df.Ay[df['Unnamed: 69']==\"walking\"][:100], label='Acc-Y')\n",
    "plt.plot(np.arange(0,100),df.Az[df['Unnamed: 69']==\"walking\"][:100], label='Acc-Z')\n",
    "plt.legend()"
   ]
  },
  {
   "cell_type": "code",
   "execution_count": null,
   "id": "a22d51a6",
   "metadata": {},
   "outputs": [],
   "source": [
    "plt.title('Change in accelerometer readings while jogging', fontsize=16)\n",
    "plt.plot(np.arange(0,100),df.Ax[df['Unnamed: 69']==\"jogging\"][:100], label='Acc-X')\n",
    "plt.plot(np.arange(0,100),df.Ay[df['Unnamed: 69']==\"jogging\"][:100], label='Acc-Y')\n",
    "plt.plot(np.arange(0,100),df.Az[df['Unnamed: 69']==\"jogging\"][:100], label='Acc-Z')\n",
    "plt.legend()"
   ]
  },
  {
   "cell_type": "code",
   "execution_count": null,
   "id": "41b927ec",
   "metadata": {},
   "outputs": [],
   "source": [
    "df['Unnamed: 69'].value_counts()"
   ]
  }
 ],
 "metadata": {
  "kernelspec": {
   "display_name": "Python 3",
   "language": "python",
   "name": "python3"
  },
  "language_info": {
   "codemirror_mode": {
    "name": "ipython",
    "version": 3
   },
   "file_extension": ".py",
   "mimetype": "text/x-python",
   "name": "python",
   "nbconvert_exporter": "python",
   "pygments_lexer": "ipython3",
   "version": "3.6.6"
  }
 },
 "nbformat": 4,
 "nbformat_minor": 5
}
